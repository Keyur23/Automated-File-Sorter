{
 "cells": [
  {
   "cell_type": "markdown",
   "id": "a69189bc",
   "metadata": {},
   "source": [
    "# Automated File Sorter Using Python"
   ]
  },
  {
   "cell_type": "code",
   "execution_count": 1,
   "id": "c71351c0",
   "metadata": {},
   "outputs": [],
   "source": [
    "import os,shutil"
   ]
  },
  {
   "cell_type": "code",
   "execution_count": 5,
   "id": "3d25880e",
   "metadata": {},
   "outputs": [],
   "source": [
    "path = r\"E:/DATA/\""
   ]
  },
  {
   "cell_type": "code",
   "execution_count": 6,
   "id": "aa189829",
   "metadata": {},
   "outputs": [
    {
     "data": {
      "text/plain": [
       "['Demo.txt', 'Demo_Excel.xlsx', 'pngwing.com (2).png', 'pngwing.com (3).png']"
      ]
     },
     "execution_count": 6,
     "metadata": {},
     "output_type": "execute_result"
    }
   ],
   "source": [
    "os.listdir(path)"
   ]
  },
  {
   "cell_type": "code",
   "execution_count": 11,
   "id": "ee057e9c",
   "metadata": {},
   "outputs": [
    {
     "name": "stdout",
     "output_type": "stream",
     "text": [
      "E:/DATA/Images\n",
      "E:/DATA/Excels\n",
      "E:/DATA/Text_Files\n"
     ]
    }
   ],
   "source": [
    "folder_names = [\"Images\",\"Excels\",\"Text_Files\"]\n",
    "\n",
    "for folders in range(0,3):\n",
    "    if not os.path.exists(path+folder_names[folders]):\n",
    "        print(path+folder_names[folders])\n",
    "        os.makedirs(path+folder_names[folders])\n",
    "    "
   ]
  },
  {
   "cell_type": "code",
   "execution_count": 12,
   "id": "5d83a6fb",
   "metadata": {},
   "outputs": [],
   "source": [
    "file_names = os.listdir(path)"
   ]
  },
  {
   "cell_type": "code",
   "execution_count": 15,
   "id": "0c512bce",
   "metadata": {},
   "outputs": [],
   "source": [
    "for files in file_names:\n",
    "    if \".xlsx\" in files and not os.path.exists(path + \"Excels/\" + files):\n",
    "        shutil.move(path + files, path + \"Excels/\" + files)\n",
    "    elif \".png\" in files and not os.path.exists(path + \"Images/\" + files):\n",
    "        shutil.move(path + files, path + \"Images/\" + files)\n",
    "    elif \".txt\" in files and not os.path.exists(path + \"Text_Files/\" + files):\n",
    "        shutil.move(path + files, path + \"Text_Files/\" + files)      "
   ]
  }
 ],
 "metadata": {
  "kernelspec": {
   "display_name": "Python 3 (ipykernel)",
   "language": "python",
   "name": "python3"
  },
  "language_info": {
   "codemirror_mode": {
    "name": "ipython",
    "version": 3
   },
   "file_extension": ".py",
   "mimetype": "text/x-python",
   "name": "python",
   "nbconvert_exporter": "python",
   "pygments_lexer": "ipython3",
   "version": "3.11.5"
  }
 },
 "nbformat": 4,
 "nbformat_minor": 5
}
